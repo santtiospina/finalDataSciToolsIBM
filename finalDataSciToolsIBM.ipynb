{
  "cells": [
    {
      "cell_type": "markdown",
      "metadata": {},
      "source": [
        "<center>\n",
        "    <img src=\"https://s3-api.us-geo.objectstorage.softlayer.net/cf-courses-data/CognitiveClass/Logos/organization_logo/organization_logo.png\" width=\"300\" alt=\"cognitiveclass.ai logo\"  />\n",
        "</center>\n"
      ]
    },
    {
      "cell_type": "markdown",
      "metadata": {},
      "source": [
        "#### Add your code below following the instructions given in the course\n"
      ]
    },
    {
      "cell_type": "markdown",
      "metadata": {},
      "source": [
        "# My Jupyter Notebook on IBM Watson Studio"
      ]
    },
    {
      "cell_type": "markdown",
      "metadata": {},
      "source": [
        "__Santiago Ospina Ferreira__ <br> \n",
        "_https://www.linkedin.com/in/santiospinaferreira/_ <br>\n",
        "_santiospina910@gmail.com_ <br> \n",
        "<br>\n",
        "_Aspiration:_ Industrial Data Scientist | Industry 4.0 Entrepreneur <br>\n",
        "_Currently:_ Undergraduate Industrial Engineering student | Industry 4.0 - Business Development Research Coordinator"
      ]
    },
    {
      "cell_type": "markdown",
      "metadata": {},
      "source": [
        "- _The future relies on the understandings of artificial intelligence: its Industrial relationship and world implications; that's what got me interested into Data Science._ <br>\n",
        "- _Helping the development and progress of my country (Colombia), and region (Latam) by driving the adoption and performance of technology. (IoT, IIoT, DLT, AI/ML)_ <br>\n",
        "- _Driving information-based solutions in real time, progress towards smart industries, products and cities._ <br>\n"
      ]
    },
    {
      "cell_type": "markdown",
      "metadata": {},
      "source": [
        "#### This next line of code will perform the outstanding operation of 2+2 "
      ]
    },
    {
      "cell_type": "code",
      "execution_count": 1,
      "metadata": {
        "trusted": true
      },
      "outputs": [
        {
          "data": {
            "text/plain": [
              "4"
            ]
          },
          "execution_count": 1,
          "metadata": {},
          "output_type": "execute_result"
        }
      ],
      "source": [
        "2+2"
      ]
    },
    {
      "cell_type": "markdown",
      "metadata": {},
      "source": [
        "> Some of my hobbies: \n",
        "\n",
        "1. Music \n",
        "    - Drumming\n",
        "    - Listening and discovering\n",
        "\n",
        "2. Reading \n",
        "    - Technology advancements\n",
        "    - Philosophy: Oppy, Spinoza, Wittgenstein, Camus, Kierkegaard.  \n",
        "    - Novels/Tales: Dostoevsky, Saramago, Borges. \n",
        "    - Non-Fiction: Oliver Sacks, Sagan, Ross. "
      ]
    },
    {
      "cell_type": "code",
      "execution_count": null,
      "metadata": {},
      "outputs": [],
      "source": []
    }
  ],
  "metadata": {
    "kernelspec": {
      "display_name": "Pyolite",
      "language": "python",
      "name": "python"
    },
    "language_info": {
      "codemirror_mode": {
        "name": "python",
        "version": 3
      },
      "file_extension": ".py",
      "mimetype": "text/x-python",
      "name": "python",
      "nbconvert_exporter": "python",
      "pygments_lexer": "ipython3",
      "version": "3.8"
    }
  },
  "nbformat": 4,
  "nbformat_minor": 4
}
